{
 "cells": [
  {
   "cell_type": "markdown",
   "id": "567ae6e6-5bcb-4605-863c-ae2d3ef14b2b",
   "metadata": {},
   "source": [
    "import the libraries"
   ]
  },
  {
   "cell_type": "code",
   "execution_count": null,
   "id": "4a18d8c8-75cb-49dd-8a1c-4b106567d87b",
   "metadata": {},
   "outputs": [],
   "source": [
    "import numpy as np\n",
    "import pandas as pd\n",
    "import matplotlib.pyplot as plt\n",
    "import seaborn as sns\n",
    "from sklearn.model_selection import train_test_split\n",
    "from sklearn.preprocessing import StandardScaler\n",
    "from sklearn.neighbors import KNeighborsClassifier\n",
    "from sklearn.metrics import accuracy_score, precision_score, recall_score, f1_score, confusion_matrix"
   ]
  },
  {
   "cell_type": "markdown",
   "id": "c2451bf6-e337-4476-b8ab-42611557be10",
   "metadata": {},
   "source": [
    " 1. Loading the data"
   ]
  },
  {
   "cell_type": "code",
   "execution_count": null,
   "id": "9a9167b4-070c-4a1f-84cb-a9c3bf10307f",
   "metadata": {},
   "outputs": [],
   "source": [
    "column_names = ['fLength', 'fWidth', 'fSize', 'fConc', 'fConc1', 'fAsym', 'fM3Long', 'fM3Trans', 'fAlpha', 'fDist', 'class']\n",
    "df = pd.read_csv(\"magic04.data\", names=column_names)\n"
   ]
  },
  {
   "cell_type": "markdown",
   "id": "8f57b514-f73f-4ca4-ab6b-d29e4d88d89f",
   "metadata": {},
   "source": [
    " 2. Converting class labels to numeric values"
   ]
  },
  {
   "cell_type": "code",
   "execution_count": null,
   "id": "c60e6bd9-7a03-4b24-af6d-a2a67d112689",
   "metadata": {},
   "outputs": [],
   "source": [
    "class_mapping = {'g': 1, 'h': 0}\n",
    "df['class'] = df['class'].map(class_mapping)"
   ]
  },
  {
   "cell_type": "markdown",
   "id": "9cb2d4d1-9230-423b-863a-b6b1c0206253",
   "metadata": {},
   "source": [
    " 3. Balancing the data"
   ]
  },
  {
   "cell_type": "code",
   "execution_count": null,
   "id": "4620c4b8-e796-4409-9568-9405bdde2876",
   "metadata": {},
   "outputs": [],
   "source": [
    "class_0 = df[df['class'] == 0]\n",
    "class_1 = df[df['class'] == 1].sample(len(class_0), random_state=42)\n",
    "balanced_df = pd.concat([class_0, class_1]).sample(frac=1, random_state=42)"
   ]
  },
  {
   "cell_type": "markdown",
   "id": "4b8a0d91-c0e3-4ea7-b5e6-196df3abae9a",
   "metadata": {},
   "source": [
    " 4. Splitting the data"
   ]
  },
  {
   "cell_type": "code",
   "execution_count": null,
   "id": "5b1faa1e-f61f-4e07-92ad-49f1e7c2b3cf",
   "metadata": {},
   "outputs": [],
   "source": [
    "X = balanced_df.drop(columns=['class'])\n",
    "y = balanced_df['class']\n",
    "X_train, X_temp, y_train, y_temp = train_test_split(X, y, test_size=0.3, random_state=42)\n",
    "X_val, X_test, y_val, y_test = train_test_split(X_temp, y_temp, test_size=0.5, random_state=42)\n"
   ]
  },
  {
   "cell_type": "markdown",
   "id": "e68e9d30-49b7-4262-9dc0-638e3e93834d",
   "metadata": {},
   "source": [
    "5. Standardizing the values using StandardScaler"
   ]
  },
  {
   "cell_type": "code",
   "execution_count": null,
   "id": "28f54d21-3bd1-49a3-8111-24316993635d",
   "metadata": {},
   "outputs": [],
   "source": [
    "scaler = StandardScaler()\n",
    "X_train_scaled = scaler.fit_transform(X_train)\n",
    "X_val_scaled = scaler.transform(X_val)\n",
    "X_test_scaled = scaler.transform(X_test)\n"
   ]
  },
  {
   "cell_type": "markdown",
   "id": "a2f4c1d4-e8bd-4b73-b162-5620f4911175",
   "metadata": {},
   "source": [
    " 6. Testing multiple values of K"
   ]
  },
  {
   "cell_type": "code",
   "execution_count": null,
   "id": "c0bdbd93-dd21-4334-9592-f3c1ebe8d244",
   "metadata": {},
   "outputs": [],
   "source": [
    "k_values = [1, 3, 5, 7, 9, 11, 13, 15, 17, 19]\n",
    "results = []\n",
    "for k in k_values:\n",
    "   knn = KNeighborsClassifier(n_neighbors=k)\n",
    "   knn.fit(X_train_scaled, y_train)\n",
    "   y_pred = knn.predict(X_val_scaled)\n",
    "   results.append({\n",
    "       'k': k,\n",
    "       'accuracy': accuracy_score(y_val, y_pred),\n",
    "       'precision': precision_score(y_val, y_pred),\n",
    "       'recall': recall_score(y_val, y_pred),\n",
    "       'f1_score': f1_score(y_val, y_pred)\n",
    "   })\n",
    "   print(f\"k = {k}:\")\n",
    "   print(f\"  Accuracy: {accuracy_score(y_val, y_pred):.4f}\")\n",
    "   print(f\"  Precision: {precision_score(y_val, y_pred):.4f}\")\n",
    "   print(f\"  Recall: {recall_score(y_val, y_pred):.4f}\")\n",
    "   print(f\"  F1-Score: {f1_score(y_val, y_pred):.4f}\")\n",
    "   print(\"  Confusion Matrix:\")\n",
    "   print(confusion_matrix(y_val, y_pred))\n",
    "   print()"
   ]
  },
  {
   "cell_type": "markdown",
   "id": "91a9c879-bc94-4789-8850-f59e4dcd2579",
   "metadata": {},
   "source": [
    " 7. Selecting the best K"
   ]
  },
  {
   "cell_type": "code",
   "execution_count": null,
   "id": "7d8de695-c842-42f0-91e8-64833fe482dd",
   "metadata": {},
   "outputs": [],
   "source": [
    "best_k_index = np.argmax([r['accuracy'] for r in results])\n",
    "best_k = k_values[best_k_index]\n",
    "print(f\"Best k value: {best_k} with validation accuracy: {results[best_k_index]['accuracy']:.4f}\")"
   ]
  },
  {
   "cell_type": "markdown",
   "id": "0041f6b7-25f6-4ad7-823f-cd7c5f941e62",
   "metadata": {},
   "source": [
    " 8. Training the final model and evaluating it"
   ]
  },
  {
   "cell_type": "code",
   "execution_count": null,
   "id": "93b0f0ac-23bd-41e5-a440-1033577c8eab",
   "metadata": {},
   "outputs": [],
   "source": [
    "knn_best = KNeighborsClassifier(n_neighbors=best_k)\n",
    "knn_best.fit(X_train_scaled, y_train)\n",
    "y_test_pred = knn_best.predict(X_test_scaled)"
   ]
  },
  {
   "cell_type": "markdown",
   "id": "ce4f57a6-1a88-410d-8dd8-ccafd412c1b7",
   "metadata": {},
   "source": [
    " 9. Printing the final evaluation"
   ]
  },
  {
   "cell_type": "code",
   "execution_count": null,
   "id": "a893fdfc-b09e-41cc-b077-a4489efe20bf",
   "metadata": {},
   "outputs": [],
   "source": [
    "print(\"\\nFinal KNN Model Performance on Test Set:\")\n",
    "print(f\"Accuracy: {accuracy_score(y_test, y_test_pred):.4f}\")\n",
    "print(f\"Precision: {precision_score(y_test, y_test_pred):.4f}\")\n",
    "print(f\"Recall: {recall_score(y_test, y_test_pred):.4f}\")\n",
    "print(f\"F1-Score: {f1_score(y_test, y_test_pred):.4f}\")\n",
    "print(\"Confusion Matrix:\")\n",
    "sns.heatmap(confusion_matrix(y_test, y_test_pred), annot=True, fmt='d', cmap='Blues')\n",
    "plt.show()"
   ]
  },
  {
   "cell_type": "markdown",
   "id": "09267e84-02f6-4914-bcc5-13e62f2703ec",
   "metadata": {},
   "source": [
    " 10. Plotting performance for all K values"
   ]
  },
  {
   "cell_type": "code",
   "execution_count": null,
   "id": "e6a9c056-9622-423d-a879-9597009fcf30",
   "metadata": {},
   "outputs": [],
   "source": [
    "plt.figure(figsize=(12, 8))\n",
    "plt.subplot(2, 2, 1)\n",
    "plt.plot(k_values, [r['accuracy'] for r in results], marker='o')\n",
    "plt.title('Accuracy vs k')\n",
    "plt.xlabel('k')\n",
    "plt.ylabel('Accuracy')\n",
    "plt.grid(True)\n",
    "plt.subplot(2, 2, 2)\n",
    "plt.plot(k_values, [r['precision'] for r in results], marker='o')\n",
    "plt.title('Precision vs k')\n",
    "plt.xlabel('k')\n",
    "plt.ylabel('Precision')\n",
    "plt.grid(True)\n",
    "plt.subplot(2, 2, 3)\n",
    "plt.plot(k_values, [r['recall'] for r in results], marker='o')\n",
    "plt.title('Recall vs k')\n",
    "plt.xlabel('k')\n",
    "plt.ylabel('Recall')\n",
    "plt.grid(True)\n",
    "plt.subplot(2, 2, 4)\n",
    "plt.plot(k_values, [r['f1_score'] for r in results], marker='o')\n",
    "plt.title('F1 Score vs k')\n",
    "plt.xlabel('k')\n",
    "plt.ylabel('F1 Score')\n",
    "plt.grid(True)\n",
    "plt.tight_layout()\n",
    "plt.show()"
   ]
  }
 ],
 "metadata": {
  "kernelspec": {
   "display_name": "Python 3 (ipykernel)",
   "language": "python",
   "name": "python3"
  },
  "language_info": {
   "codemirror_mode": {
    "name": "ipython",
    "version": 3
   },
   "file_extension": ".py",
   "mimetype": "text/x-python",
   "name": "python",
   "nbconvert_exporter": "python",
   "pygments_lexer": "ipython3",
   "version": "3.13.2"
  }
 },
 "nbformat": 4,
 "nbformat_minor": 5
}
